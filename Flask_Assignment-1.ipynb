{
 "cells": [
  {
   "cell_type": "markdown",
   "id": "643265f7-7e4f-4263-926c-a22480c94a1c",
   "metadata": {},
   "source": [
    "**Q1. What is Flask Framework? What are the advantages of Flask Framework?**"
   ]
  },
  {
   "cell_type": "markdown",
   "id": "51cd7dbe-852c-4aff-ba19-a3443bf51b0a",
   "metadata": {},
   "source": [
    "Flask is a micro web framework written in Python. It is designed to be simple, lightweight, and flexible, allowing developers to quickly build web applications and APIs.\n",
    "\n",
    "\n",
    "**Advantages of Flask Framework:*\n",
    "\n",
    "1.  Flask has a simple and intuitive syntax, making it easy to learn and use.\n",
    "\n",
    "2. Flask is lightweight and has minimal dependencies.\n",
    "\n",
    "3. Flask is highly flexible and allows developers to customize and extend its functionality as per their needs.\n",
    "\n",
    "4. Flask seamlessly integrates with Python, leveraging the vast ecosystem of Python libraries and tools."
   ]
  },
  {
   "cell_type": "code",
   "execution_count": null,
   "id": "484766ea-da07-46f2-b3d2-be1988598de2",
   "metadata": {},
   "outputs": [],
   "source": []
  },
  {
   "cell_type": "markdown",
   "id": "aa033c85-2e4b-4ce2-be03-1b7ace457a47",
   "metadata": {},
   "source": [
    "**Q2. Create a simple Flask application to display ‘Hello World!!’. Attach the screenshot of the output in\n",
    "Jupyter Notebook.**"
   ]
  },
  {
   "cell_type": "markdown",
   "id": "dbfaf28f-5290-473f-9317-317f89a60e12",
   "metadata": {},
   "source": [
    "![](flask_hello.png)"
   ]
  },
  {
   "cell_type": "markdown",
   "id": "c2ef80cb-7146-49b3-a040-e1a670c2e495",
   "metadata": {},
   "source": []
  },
  {
   "cell_type": "markdown",
   "id": "de987dde-c7eb-49ad-8857-7ae502b1920f",
   "metadata": {},
   "source": [
    "**Q3. What is App routing in Flask? Why do we use app routes?**"
   ]
  },
  {
   "cell_type": "markdown",
   "id": "89f7ce27-6cf3-4507-aa0f-ce0c2c0dd4d4",
   "metadata": {},
   "source": [
    "App routing refers to the process of mapping URL patterns to specific functions or views within a web application.\n",
    "\n",
    "The app.route() decorator is used in Flask to define routes. It associates a specific URL pattern (route) with a Python function, which is executed when that route is accessed by a client's request. "
   ]
  },
  {
   "cell_type": "markdown",
   "id": "ab8d6985-1be1-4008-9d9d-940fbba8c54f",
   "metadata": {},
   "source": [
    "**Q4. Create a “/welcome” route to display the welcome message “Welcome to ABC Corporation” and a “/”\n",
    "route to show the following details**:\n",
    "Company Name: ABC Corporation\n",
    "Location: India\n",
    "Contact Detail: 999-999-9999\n",
    "\n",
    "Attach the screenshot of the output in Jupyter Notebook."
   ]
  },
  {
   "cell_type": "markdown",
   "id": "118c39d6-a0ab-4740-a9a2-36fae6df0788",
   "metadata": {},
   "source": [
    "**Screenshot with welcome message**"
   ]
  },
  {
   "cell_type": "markdown",
   "id": "32091954-1b22-4979-92c3-5abecd72fd19",
   "metadata": {},
   "source": [
    "![](flask_welcome.png)"
   ]
  },
  {
   "cell_type": "markdown",
   "id": "29e181d7-8468-4a23-9854-fba344de9f93",
   "metadata": {},
   "source": [
    "**Screenshot with details message**"
   ]
  },
  {
   "cell_type": "markdown",
   "id": "aba70769-9bdf-404a-a217-3864bfabdd26",
   "metadata": {},
   "source": [
    "![](flask_details.png)"
   ]
  },
  {
   "cell_type": "markdown",
   "id": "dafc62cf-6548-452c-a836-98676812b57f",
   "metadata": {},
   "source": [
    "**Q5. What function is used in Flask for URL Building? Write a Python code to demonstrate the working of the\n",
    "url_for() function.**"
   ]
  },
  {
   "cell_type": "markdown",
   "id": "5442457a-39ee-4e3e-9d8f-a2b01da6b9c5",
   "metadata": {},
   "source": [
    "In Flask, the url_for() function is used for URL building.\n",
    "\n"
   ]
  },
  {
   "cell_type": "code",
   "execution_count": null,
   "id": "2686d9b9-f232-47c1-ba1e-b4f06944616c",
   "metadata": {},
   "outputs": [],
   "source": [
    "from flask import Flask, request, url_for\n",
    "\n",
    "app = Flask(__name__)\n",
    "\n",
    "@app.route(\"/\")\n",
    "def intro():\n",
    "    return \"Hello Everyone!\"\n",
    "\n",
    "@app.route(\"/test\")\n",
    "def test():\n",
    "    return \"This is a test flask\"\n",
    "\n",
    "@app.route('/generate_url')\n",
    "def generate_url():\n",
    "    intro_url = url_for('intro')\n",
    "    test_url = url_for('test')\n",
    "    intro_content = intro()\n",
    "    test_content = test()\n",
    "    return f\"Generated URLs: <br> Intro: {intro_url} {intro_content} <br> Test: {test_url} {test_content}\"\n",
    "\n",
    "if __name__ == \"__main__\":\n",
    "    app.run(host=\"0.0.0.0\")"
   ]
  },
  {
   "cell_type": "markdown",
   "id": "387ee460-7cbb-4206-b86e-071455be4987",
   "metadata": {},
   "source": [
    "![](flask_url.png)"
   ]
  }
 ],
 "metadata": {
  "kernelspec": {
   "display_name": "Python 3 (ipykernel)",
   "language": "python",
   "name": "python3"
  },
  "language_info": {
   "codemirror_mode": {
    "name": "ipython",
    "version": 3
   },
   "file_extension": ".py",
   "mimetype": "text/x-python",
   "name": "python",
   "nbconvert_exporter": "python",
   "pygments_lexer": "ipython3",
   "version": "3.10.8"
  }
 },
 "nbformat": 4,
 "nbformat_minor": 5
}
